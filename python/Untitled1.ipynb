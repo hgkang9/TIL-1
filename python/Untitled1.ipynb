{
 "cells": [
  {
   "cell_type": "code",
   "execution_count": 3,
   "metadata": {},
   "outputs": [
    {
     "name": "stdout",
     "output_type": "stream",
     "text": [
      "ㄴㅇ\n",
      "ㄴㅇ\n",
      "ㄹㄴ\n",
      "ㄹㄴ\n",
      "aㅎ\n",
      "aㅎ\n",
      "ㄴㅁㅇ\n",
      "ㄴㅁㅇ\n",
      "ㅎ\n",
      "ㅎ\n",
      "ㄶ\n",
      "ㄶ\n",
      "ㅁ\n",
      "ㅁ\n",
      "\n",
      "\n",
      "ㄹ\n",
      "ㄹ\n",
      "ㅎ\n",
      "ㅎ\n"
     ]
    }
   ],
   "source": [
    "while True:\n",
    "    try:\n",
    "        print(input())\n",
    "    except EOFError:\n",
    "        break\n",
    "        "
   ]
  },
  {
   "cell_type": "code",
   "execution_count": null,
   "metadata": {},
   "outputs": [],
   "source": []
  }
 ],
 "metadata": {
  "kernelspec": {
   "display_name": "Python 3",
   "language": "python",
   "name": "python3"
  },
  "language_info": {
   "codemirror_mode": {
    "name": "ipython",
    "version": 3
   },
   "file_extension": ".py",
   "mimetype": "text/x-python",
   "name": "python",
   "nbconvert_exporter": "python",
   "pygments_lexer": "ipython3",
   "version": "3.7.1"
  }
 },
 "nbformat": 4,
 "nbformat_minor": 2
}
